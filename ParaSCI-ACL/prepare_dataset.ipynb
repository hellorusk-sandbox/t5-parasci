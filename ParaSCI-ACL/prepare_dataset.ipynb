{
 "cells": [
  {
   "cell_type": "code",
   "execution_count": 22,
   "id": "random-correction",
   "metadata": {},
   "outputs": [],
   "source": [
    "text = \"source,target\\n\"\n",
    "f_src = open(\"train/train.src\")\n",
    "f_tgt = open(\"train/train.tgt\")\n",
    "\n",
    "src_sentences = f_src.readlines()\n",
    "tgt_sentences = f_tgt.readlines()\n",
    "\n",
    "for i in range(len(src_sentences)):\n",
    "    src_sentence = src_sentences[i].replace(\"\\n\", \"\")\n",
    "    tgt_sentence = tgt_sentences[i].replace(\"\\n\", \"\")\n",
    "    text += f\"\\\"{src_sentence}\\\",\\\"{tgt_sentence}\\\"\\n\"\n",
    "    \n",
    "with open(\"train.csv\", \"w\") as f:\n",
    "    f.write(text)\n",
    "    \n",
    "f_src.close()\n",
    "f_tgt.close()"
   ]
  },
  {
   "cell_type": "code",
   "execution_count": 17,
   "id": "molecular-shareware",
   "metadata": {},
   "outputs": [],
   "source": [
    "text = \"source,target\\n\"\n",
    "f_src = open(\"val/val.src\")\n",
    "f_tgt = open(\"val/val.tgt\")\n",
    "\n",
    "src_sentences = f_src.readlines()\n",
    "tgt_sentences = f_tgt.readlines()\n",
    "\n",
    "for i in range(len(src_sentences)):\n",
    "    src_sentence = src_sentences[i].replace(\"\\n\", \"\")\n",
    "    tgt_sentence = tgt_sentences[i].replace(\"\\n\", \"\")\n",
    "    text += f\"\\\"{src_sentence}\\\",\\\"{tgt_sentence}\\\"\\n\"\n",
    "    \n",
    "with open(\"validation.csv\", \"w\") as f:\n",
    "    f.write(text)\n",
    "    \n",
    "f_src.close()\n",
    "f_tgt.close()"
   ]
  },
  {
   "cell_type": "code",
   "execution_count": 18,
   "id": "another-stomach",
   "metadata": {},
   "outputs": [],
   "source": [
    "text = \"source,target\\n\"\n",
    "f_src = open(\"test/test.src\")\n",
    "f_tgt = open(\"test/test.tgt\")\n",
    "\n",
    "src_sentences = f_src.readlines()\n",
    "tgt_sentences = f_tgt.readlines()\n",
    "\n",
    "for i in range(len(src_sentences)):\n",
    "    src_sentence = src_sentences[i].replace(\"\\n\", \"\")\n",
    "    tgt_sentence = tgt_sentences[i].replace(\"\\n\", \"\")\n",
    "    text += f\"\\\"{src_sentence}\\\",\\\"{tgt_sentence}\\\"\\n\"\n",
    "    \n",
    "with open(\"test.csv\", \"w\") as f:\n",
    "    f.write(text)\n",
    "    \n",
    "f_src.close()\n",
    "f_tgt.close()"
   ]
  },
  {
   "cell_type": "code",
   "execution_count": null,
   "id": "classical-dover",
   "metadata": {},
   "outputs": [],
   "source": []
  }
 ],
 "metadata": {
  "kernelspec": {
   "display_name": "Python 3",
   "language": "python",
   "name": "python3"
  },
  "language_info": {
   "codemirror_mode": {
    "name": "ipython",
    "version": 3
   },
   "file_extension": ".py",
   "mimetype": "text/x-python",
   "name": "python",
   "nbconvert_exporter": "python",
   "pygments_lexer": "ipython3",
   "version": "3.8.0"
  }
 },
 "nbformat": 4,
 "nbformat_minor": 5
}
